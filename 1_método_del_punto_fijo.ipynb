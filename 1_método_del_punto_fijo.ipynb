{
  "nbformat": 4,
  "nbformat_minor": 0,
  "metadata": {
    "colab": {
      "name": "Ej 1. Método del punto fijo.ipynb",
      "provenance": [],
      "collapsed_sections": [],
      "include_colab_link": true
    },
    "kernelspec": {
      "name": "python3",
      "display_name": "Python 3"
    },
    "language_info": {
      "name": "python"
    }
  },
  "cells": [
    {
      "cell_type": "markdown",
      "metadata": {
        "id": "view-in-github",
        "colab_type": "text"
      },
      "source": [
        "<a href=\"https://colab.research.google.com/github/neto-riga/metodos_numericos_2/blob/main/1_m%C3%A9todo_del_punto_fijo.ipynb\" target=\"_parent\"><img src=\"https://colab.research.google.com/assets/colab-badge.svg\" alt=\"Open In Colab\"/></a>"
      ]
    },
    {
      "cell_type": "markdown",
      "source": [
        "## [Regresar al ínidce](https://github.com/neto-riga/metodos_numericos_2/blob/main/portafolio.md#índice)"
      ],
      "metadata": {
        "id": "kU3wJtsw3JRc"
      }
    },
    {
      "cell_type": "markdown",
      "source": [
        "#Método del punto fijo"
      ],
      "metadata": {
        "id": "Sku9VCaDYfqd"
      }
    },
    {
      "cell_type": "markdown",
      "source": [
        "Resolver el siguiente sistema por el método del punto fijo:\n",
        "\n",
        "$$\\begin{eqnarray}\n",
        "f_{1}(x,y)&=&x^{2}-y-2=0 \\\\\n",
        "f_{2}(x,y)&=&2xy-3=0\n",
        "\\end{eqnarray}\n",
        "$$\n",
        "\n",
        "1. Graficar las funciones \n",
        "2. Obtener las formas iterativas. Sumar $-4x$ a cafa lado de $f_{1}$ y $-5y$ a cada lado de $f_{2}$ \n",
        "3. elegir el punto inicial\n",
        "4. Verificar la convergencia mediante $M$\n",
        "5. Resolver con desplazamientos simultáneos y sucesivos\n",
        "6. Calcular el error absoluto con la norma espectral\n",
        "7. Estimar la solución con una tolerancia de 0.0008"
      ],
      "metadata": {
        "id": "HT0UWlyZI5rP"
      }
    },
    {
      "cell_type": "code",
      "execution_count": null,
      "metadata": {
        "id": "jJ97X53XHzf8"
      },
      "outputs": [],
      "source": [
        "import numpy as np \n",
        "import pandas as pd\n",
        "import matplotlib.pyplot as plt\n",
        "import seaborn as sns\n",
        "sns.set_theme()"
      ]
    },
    {
      "cell_type": "markdown",
      "source": [
        "Declaramos nustras funciones $f_1$ y $f_2$:"
      ],
      "metadata": {
        "id": "gli4TFPkYg9y"
      }
    },
    {
      "cell_type": "code",
      "source": [
        "F = [lambda x: x ** 2 - 2,\n",
        "    lambda x: 3 / (2 * x)] "
      ],
      "metadata": {
        "id": "aW1rtOxHYjK1"
      },
      "execution_count": null,
      "outputs": []
    },
    {
      "cell_type": "markdown",
      "source": [
        "Graficando las funciones"
      ],
      "metadata": {
        "id": "rdPVEvUrYm26"
      }
    },
    {
      "cell_type": "code",
      "source": [
        "X = np.linspace(-2, 2, 100)\n",
        "\n",
        "ax1 = plt.figure(figsize=(9,9))\n",
        "plt.title(r\"Funciones del problema\", fontsize = 19)\n",
        "plt.plot(X, F[0](X))\n",
        "plt.plot (X[:50], F[1](X[:50]), 'g', X[50:], F[1](X[50:]), 'g')\n",
        "plt.ylim(-20, 20)\n",
        "plt.legend([r\"$f_1$\", r\"$f_2$\"], fontsize = 19)\n",
        "plt.show()"
      ],
      "metadata": {
        "colab": {
          "base_uri": "https://localhost:8080/",
          "height": 561
        },
        "id": "FY_UOWKgYp_c",
        "outputId": "2427f0fa-8c3f-478f-dc00-8c21919340ff"
      },
      "execution_count": null,
      "outputs": [
        {
          "output_type": "display_data",
          "data": {
            "image/png": "[encoded data removed]",
            "text/plain": [
              "<Figure size 648x648 with 1 Axes>"
            ]
          },
          "metadata": {}
        }
      ]
    },
    {
      "cell_type": "markdown",
      "source": [
        "Definimos $g_{1}$ y $g_{2}$:"
      ],
      "metadata": {
        "id": "WtK-ntQsYtZ9"
      }
    },
    {
      "cell_type": "code",
      "source": [
        "F=[lambda x,y:(x**2 - 4*x - y -2)/(-4),\n",
        "   lambda x,y: (2*x*y - 5*y -3)/(-5)] "
      ],
      "metadata": {
        "id": "55axiWpzH89a"
      },
      "execution_count": null,
      "outputs": []
    },
    {
      "cell_type": "markdown",
      "source": [
        "Aplicamos el método de forma simultanea, calculamos los errores y mostramos los resultados:"
      ],
      "metadata": {
        "id": "lc5Axp6hYys0"
      }
    },
    {
      "cell_type": "code",
      "source": [
        "x=[1]\n",
        "y=[0.5]\n",
        "Error = np.zeros((2,1))\n",
        "Error_abs=[1]\n",
        "i=0\n",
        "while Error_abs[i] > 0.0008:\n",
        "  x.append(F[0](x[i],y[i]))\n",
        "  y.append(F[1](x[i],y[i]))\n",
        "  i+=1\n",
        "  Error[0,0] = x[i] - x[i-1]\n",
        "  Error[1,0] = y[i] - y[i-1]\n",
        "  Error_abs.append(np.amax(abs(Error)))\n",
        "Error_abs[0]=np.nan\n",
        "tabla = {'xk': x,\n",
        "        'yk': y,\n",
        "        'Error a': Error_abs\n",
        "}\n",
        "Df = pd.DataFrame(tabla)\n",
        "Df"
      ],
      "metadata": {
        "colab": {
          "base_uri": "https://localhost:8080/",
          "height": 363
        },
        "id": "ngEF15zuMtPn",
        "outputId": "81e857cd-37ee-4fde-9639-8f833d38dde6"
      },
      "execution_count": null,
      "outputs": [
        {
          "output_type": "execute_result",
          "data": {
            "text/html": [
              "\n",
              "  <div id=\"df-e3889ab1-2334-484b-88bc-1f12704f5959\">\n",
              "    <div class=\"colab-df-container\">\n",
              "      <div>\n",
              "<style scoped>\n",
              "    .dataframe tbody tr th:only-of-type {\n",
              "        vertical-align: middle;\n",
              "    }\n",
              "\n",
              "    .dataframe tbody tr th {\n",
              "        vertical-align: top;\n",
              "    }\n",
              "\n",
              "    .dataframe thead th {\n",
              "        text-align: right;\n",
              "    }\n",
              "</style>\n",
              "<table border=\"1\" class=\"dataframe\">\n",
              "  <thead>\n",
              "    <tr style=\"text-align: right;\">\n",
              "      <th></th>\n",
              "      <th>xk</th>\n",
              "      <th>yk</th>\n",
              "      <th>Error a</th>\n",
              "    </tr>\n",
              "  </thead>\n",
              "  <tbody>\n",
              "    <tr>\n",
              "      <th>0</th>\n",
              "      <td>1.000000</td>\n",
              "      <td>0.500000</td>\n",
              "      <td>NaN</td>\n",
              "    </tr>\n",
              "    <tr>\n",
              "      <th>1</th>\n",
              "      <td>1.375000</td>\n",
              "      <td>0.900000</td>\n",
              "      <td>0.400000</td>\n",
              "    </tr>\n",
              "    <tr>\n",
              "      <th>2</th>\n",
              "      <td>1.627344</td>\n",
              "      <td>1.005000</td>\n",
              "      <td>0.252344</td>\n",
              "    </tr>\n",
              "    <tr>\n",
              "      <th>3</th>\n",
              "      <td>1.716532</td>\n",
              "      <td>0.950808</td>\n",
              "      <td>0.089188</td>\n",
              "    </tr>\n",
              "    <tr>\n",
              "      <th>4</th>\n",
              "      <td>1.717613</td>\n",
              "      <td>0.897971</td>\n",
              "      <td>0.052837</td>\n",
              "    </tr>\n",
              "    <tr>\n",
              "      <th>5</th>\n",
              "      <td>1.704557</td>\n",
              "      <td>0.881024</td>\n",
              "      <td>0.016947</td>\n",
              "    </tr>\n",
              "    <tr>\n",
              "      <th>6</th>\n",
              "      <td>1.698434</td>\n",
              "      <td>0.880322</td>\n",
              "      <td>0.006123</td>\n",
              "    </tr>\n",
              "    <tr>\n",
              "      <th>7</th>\n",
              "      <td>1.697345</td>\n",
              "      <td>0.882254</td>\n",
              "      <td>0.001932</td>\n",
              "    </tr>\n",
              "    <tr>\n",
              "      <th>8</th>\n",
              "      <td>1.697664</td>\n",
              "      <td>0.883258</td>\n",
              "      <td>0.001004</td>\n",
              "    </tr>\n",
              "    <tr>\n",
              "      <th>9</th>\n",
              "      <td>1.697963</td>\n",
              "      <td>0.883468</td>\n",
              "      <td>0.000299</td>\n",
              "    </tr>\n",
              "  </tbody>\n",
              "</table>\n",
              "</div>\n",
              "      <button class=\"colab-df-convert\" onclick=\"convertToInteractive('df-e3889ab1-2334-484b-88bc-1f12704f5959')\"\n",
              "              title=\"Convert this dataframe to an interactive table.\"\n",
              "              style=\"display:none;\">\n",
              "        \n",
              "  <svg xmlns=\"http://www.w3.org/2000/svg\" height=\"24px\"viewBox=\"0 0 24 24\"\n",
              "       width=\"24px\">\n",
              "    <path d=\"M0 0h24v24H0V0z\" fill=\"none\"/>\n",
              "    <path d=\"M18.56 5.44l.94 2.06.94-2.06 2.06-.94-2.06-.94-.94-2.06-.94 2.06-2.06.94zm-11 1L8.5 8.5l.94-2.06 2.06-.94-2.06-.94L8.5 2.5l-.94 2.06-2.06.94zm10 10l.94 2.06.94-2.06 2.06-.94-2.06-.94-.94-2.06-.94 2.06-2.06.94z\"/><path d=\"M17.41 7.96l-1.37-1.37c-.4-.4-.92-.59-1.43-.59-.52 0-1.04.2-1.43.59L10.3 9.45l-7.72 7.72c-.78.78-.78 2.05 0 2.83L4 21.41c.39.39.9.59 1.41.59.51 0 1.02-.2 1.41-.59l7.78-7.78 2.81-2.81c.8-.78.8-2.07 0-2.86zM5.41 20L4 18.59l7.72-7.72 1.47 1.35L5.41 20z\"/>\n",
              "  </svg>\n",
              "      </button>\n",
              "      \n",
              "  <style>\n",
              "    .colab-df-container {\n",
              "      display:flex;\n",
              "      flex-wrap:wrap;\n",
              "      gap: 12px;\n",
              "    }\n",
              "\n",
              "    .colab-df-convert {\n",
              "      background-color: #E8F0FE;\n",
              "      border: none;\n",
              "      border-radius: 50%;\n",
              "      cursor: pointer;\n",
              "      display: none;\n",
              "      fill: #1967D2;\n",
              "      height: 32px;\n",
              "      padding: 0 0 0 0;\n",
              "      width: 32px;\n",
              "    }\n",
              "\n",
              "    .colab-df-convert:hover {\n",
              "      background-color: #E2EBFA;\n",
              "      box-shadow: 0px 1px 2px rgba(60, 64, 67, 0.3), 0px 1px 3px 1px rgba(60, 64, 67, 0.15);\n",
              "      fill: #174EA6;\n",
              "    }\n",
              "\n",
              "    [theme=dark] .colab-df-convert {\n",
              "      background-color: #3B4455;\n",
              "      fill: #D2E3FC;\n",
              "    }\n",
              "\n",
              "    [theme=dark] .colab-df-convert:hover {\n",
              "      background-color: #434B5C;\n",
              "      box-shadow: 0px 1px 3px 1px rgba(0, 0, 0, 0.15);\n",
              "      filter: drop-shadow(0px 1px 2px rgba(0, 0, 0, 0.3));\n",
              "      fill: #FFFFFF;\n",
              "    }\n",
              "  </style>\n",
              "\n",
              "      <script>\n",
              "        const buttonEl =\n",
              "          document.querySelector('#df-e3889ab1-2334-484b-88bc-1f12704f5959 button.colab-df-convert');\n",
              "        buttonEl.style.display =\n",
              "          google.colab.kernel.accessAllowed ? 'block' : 'none';\n",
              "\n",
              "        async function convertToInteractive(key) {\n",
              "          const element = document.querySelector('#df-e3889ab1-2334-484b-88bc-1f12704f5959');\n",
              "          const dataTable =\n",
              "            await google.colab.kernel.invokeFunction('convertToInteractive',\n",
              "                                                     [key], {});\n",
              "          if (!dataTable) return;\n",
              "\n",
              "          const docLinkHtml = 'Like what you see? Visit the ' +\n",
              "            '<a target=\"_blank\" href=https://colab.research.google.com/notebooks/data_table.ipynb>data table notebook</a>'\n",
              "            + ' to learn more about interactive tables.';\n",
              "          element.innerHTML = '';\n",
              "          dataTable['output_type'] = 'display_data';\n",
              "          await google.colab.output.renderOutput(dataTable, element);\n",
              "          const docLink = document.createElement('div');\n",
              "          docLink.innerHTML = docLinkHtml;\n",
              "          element.appendChild(docLink);\n",
              "        }\n",
              "      </script>\n",
              "    </div>\n",
              "  </div>\n",
              "  "
            ],
            "text/plain": [
              "         xk        yk   Error a\n",
              "0  1.000000  0.500000       NaN\n",
              "1  1.375000  0.900000  0.400000\n",
              "2  1.627344  1.005000  0.252344\n",
              "3  1.716532  0.950808  0.089188\n",
              "4  1.717613  0.897971  0.052837\n",
              "5  1.704557  0.881024  0.016947\n",
              "6  1.698434  0.880322  0.006123\n",
              "7  1.697345  0.882254  0.001932\n",
              "8  1.697664  0.883258  0.001004\n",
              "9  1.697963  0.883468  0.000299"
            ]
          },
          "metadata": {},
          "execution_count": 7
        }
      ]
    },
    {
      "cell_type": "markdown",
      "source": [
        "El punto en el que se intersecan las curvas es $(1.697963,0.883468)$ con una tolerancia en error absoluto con la norma espectral de 0.000299. \n"
      ],
      "metadata": {
        "id": "SLDQtQ_SX_WC"
      }
    },
    {
      "cell_type": "markdown",
      "source": [
        "Ahora utilizamos iteraciones sucesivas, es decir, el método de Gauss-Seidel."
      ],
      "metadata": {
        "id": "GURoXtiTY1Lh"
      }
    },
    {
      "cell_type": "code",
      "source": [
        "x=[1]\n",
        "y=[0.5]\n",
        "Error = np.zeros((2,1))\n",
        "Error_abs=[1]\n",
        "i=0\n",
        "while Error_abs[i] > 0.0008:\n",
        "  x.append(F[0](x[i],y[i]))\n",
        "  y.append(F[1](x[-1],y[i]))\n",
        "  i+=1\n",
        "  Error[0,0] = x[i] - x[i-1]\n",
        "  Error[1,0] = y[i] - y[i-1]\n",
        "  Error_abs.append(np.amax(abs(Error)))\n",
        "Error_abs[0]=np.nan\n",
        "tabla = {'xk': x,\n",
        "        'yk': y,\n",
        "        'Error a': Error_abs\n",
        "}\n",
        "Df = pd.DataFrame(tabla)\n",
        "Df"
      ],
      "metadata": {
        "colab": {
          "base_uri": "https://localhost:8080/",
          "height": 269
        },
        "id": "qhoNjx3LY2Mo",
        "outputId": "257673f8-1808-4e5e-c508-236a3ccd3966"
      },
      "execution_count": null,
      "outputs": [
        {
          "output_type": "execute_result",
          "data": {
            "text/html": [
              "\n",
              "  <div id=\"df-dd249629-86be-4aed-acbb-34df9b774b88\">\n",
              "    <div class=\"colab-df-container\">\n",
              "      <div>\n",
              "<style scoped>\n",
              "    .dataframe tbody tr th:only-of-type {\n",
              "        vertical-align: middle;\n",
              "    }\n",
              "\n",
              "    .dataframe tbody tr th {\n",
              "        vertical-align: top;\n",
              "    }\n",
              "\n",
              "    .dataframe thead th {\n",
              "        text-align: right;\n",
              "    }\n",
              "</style>\n",
              "<table border=\"1\" class=\"dataframe\">\n",
              "  <thead>\n",
              "    <tr style=\"text-align: right;\">\n",
              "      <th></th>\n",
              "      <th>xk</th>\n",
              "      <th>yk</th>\n",
              "      <th>Error a</th>\n",
              "    </tr>\n",
              "  </thead>\n",
              "  <tbody>\n",
              "    <tr>\n",
              "      <th>0</th>\n",
              "      <td>1.000000</td>\n",
              "      <td>0.500000</td>\n",
              "      <td>NaN</td>\n",
              "    </tr>\n",
              "    <tr>\n",
              "      <th>1</th>\n",
              "      <td>1.375000</td>\n",
              "      <td>0.825000</td>\n",
              "      <td>0.375000</td>\n",
              "    </tr>\n",
              "    <tr>\n",
              "      <th>2</th>\n",
              "      <td>1.608594</td>\n",
              "      <td>0.894164</td>\n",
              "      <td>0.233594</td>\n",
              "    </tr>\n",
              "    <tr>\n",
              "      <th>3</th>\n",
              "      <td>1.685241</td>\n",
              "      <td>0.891411</td>\n",
              "      <td>0.076648</td>\n",
              "    </tr>\n",
              "    <tr>\n",
              "      <th>4</th>\n",
              "      <td>1.698085</td>\n",
              "      <td>0.885935</td>\n",
              "      <td>0.012843</td>\n",
              "    </tr>\n",
              "    <tr>\n",
              "      <th>5</th>\n",
              "      <td>1.698695</td>\n",
              "      <td>0.883961</td>\n",
              "      <td>0.001973</td>\n",
              "    </tr>\n",
              "    <tr>\n",
              "      <th>6</th>\n",
              "      <td>1.698294</td>\n",
              "      <td>0.883471</td>\n",
              "      <td>0.000491</td>\n",
              "    </tr>\n",
              "  </tbody>\n",
              "</table>\n",
              "</div>\n",
              "      <button class=\"colab-df-convert\" onclick=\"convertToInteractive('df-dd249629-86be-4aed-acbb-34df9b774b88')\"\n",
              "              title=\"Convert this dataframe to an interactive table.\"\n",
              "              style=\"display:none;\">\n",
              "        \n",
              "  <svg xmlns=\"http://www.w3.org/2000/svg\" height=\"24px\"viewBox=\"0 0 24 24\"\n",
              "       width=\"24px\">\n",
              "    <path d=\"M0 0h24v24H0V0z\" fill=\"none\"/>\n",
              "    <path d=\"M18.56 5.44l.94 2.06.94-2.06 2.06-.94-2.06-.94-.94-2.06-.94 2.06-2.06.94zm-11 1L8.5 8.5l.94-2.06 2.06-.94-2.06-.94L8.5 2.5l-.94 2.06-2.06.94zm10 10l.94 2.06.94-2.06 2.06-.94-2.06-.94-.94-2.06-.94 2.06-2.06.94z\"/><path d=\"M17.41 7.96l-1.37-1.37c-.4-.4-.92-.59-1.43-.59-.52 0-1.04.2-1.43.59L10.3 9.45l-7.72 7.72c-.78.78-.78 2.05 0 2.83L4 21.41c.39.39.9.59 1.41.59.51 0 1.02-.2 1.41-.59l7.78-7.78 2.81-2.81c.8-.78.8-2.07 0-2.86zM5.41 20L4 18.59l7.72-7.72 1.47 1.35L5.41 20z\"/>\n",
              "  </svg>\n",
              "      </button>\n",
              "      \n",
              "  <style>\n",
              "    .colab-df-container {\n",
              "      display:flex;\n",
              "      flex-wrap:wrap;\n",
              "      gap: 12px;\n",
              "    }\n",
              "\n",
              "    .colab-df-convert {\n",
              "      background-color: #E8F0FE;\n",
              "      border: none;\n",
              "      border-radius: 50%;\n",
              "      cursor: pointer;\n",
              "      display: none;\n",
              "      fill: #1967D2;\n",
              "      height: 32px;\n",
              "      padding: 0 0 0 0;\n",
              "      width: 32px;\n",
              "    }\n",
              "\n",
              "    .colab-df-convert:hover {\n",
              "      background-color: #E2EBFA;\n",
              "      box-shadow: 0px 1px 2px rgba(60, 64, 67, 0.3), 0px 1px 3px 1px rgba(60, 64, 67, 0.15);\n",
              "      fill: #174EA6;\n",
              "    }\n",
              "\n",
              "    [theme=dark] .colab-df-convert {\n",
              "      background-color: #3B4455;\n",
              "      fill: #D2E3FC;\n",
              "    }\n",
              "\n",
              "    [theme=dark] .colab-df-convert:hover {\n",
              "      background-color: #434B5C;\n",
              "      box-shadow: 0px 1px 3px 1px rgba(0, 0, 0, 0.15);\n",
              "      filter: drop-shadow(0px 1px 2px rgba(0, 0, 0, 0.3));\n",
              "      fill: #FFFFFF;\n",
              "    }\n",
              "  </style>\n",
              "\n",
              "      <script>\n",
              "        const buttonEl =\n",
              "          document.querySelector('#df-dd249629-86be-4aed-acbb-34df9b774b88 button.colab-df-convert');\n",
              "        buttonEl.style.display =\n",
              "          google.colab.kernel.accessAllowed ? 'block' : 'none';\n",
              "\n",
              "        async function convertToInteractive(key) {\n",
              "          const element = document.querySelector('#df-dd249629-86be-4aed-acbb-34df9b774b88');\n",
              "          const dataTable =\n",
              "            await google.colab.kernel.invokeFunction('convertToInteractive',\n",
              "                                                     [key], {});\n",
              "          if (!dataTable) return;\n",
              "\n",
              "          const docLinkHtml = 'Like what you see? Visit the ' +\n",
              "            '<a target=\"_blank\" href=https://colab.research.google.com/notebooks/data_table.ipynb>data table notebook</a>'\n",
              "            + ' to learn more about interactive tables.';\n",
              "          element.innerHTML = '';\n",
              "          dataTable['output_type'] = 'display_data';\n",
              "          await google.colab.output.renderOutput(dataTable, element);\n",
              "          const docLink = document.createElement('div');\n",
              "          docLink.innerHTML = docLinkHtml;\n",
              "          element.appendChild(docLink);\n",
              "        }\n",
              "      </script>\n",
              "    </div>\n",
              "  </div>\n",
              "  "
            ],
            "text/plain": [
              "         xk        yk   Error a\n",
              "0  1.000000  0.500000       NaN\n",
              "1  1.375000  0.825000  0.375000\n",
              "2  1.608594  0.894164  0.233594\n",
              "3  1.685241  0.891411  0.076648\n",
              "4  1.698085  0.885935  0.012843\n",
              "5  1.698695  0.883961  0.001973\n",
              "6  1.698294  0.883471  0.000491"
            ]
          },
          "metadata": {},
          "execution_count": 10
        }
      ]
    },
    {
      "cell_type": "markdown",
      "source": [
        "Notamos que el punto está dado por el par ordenado $(1.698294, 0.883471)$, notemos que el resultado fue encontrado con menos iteraciones."
      ],
      "metadata": {
        "id": "KQb7zqqxZOUB"
      }
    },
    {
      "cell_type": "markdown",
      "source": [
        "Para analizar su convergencia haremos uso de las derivadas parciales de $f_{1}$ y $f_{2}$, asi: \n",
        "\n",
        "$$\n",
        "\\frac{\\partial f_{1}(1,0.5)}{\\partial x} = -\\frac{x}{2}+1 =0.5 \\\\\n",
        "\\frac{\\partial f_{1}(1,0.5)}{\\partial y } = \\frac{1}{4}\n",
        "$$\n",
        "Asì, para $f_{1}, M=0.75<1$, por lo tanto el mètodo converge. \n",
        "\n",
        "Para $f_{2}$ tenemos \n",
        "\n",
        "$$\n",
        "\\frac{\\partial f_{2}(1,0.5)}{\\partial x} = -\\frac{2}{5}y = -\\frac{1}{5}\\\\\n",
        "\\frac{\\partial f_{2}(1,0.5)}{\\partial y } = -\\frac{2}{5}x+1=\\frac{3}{5}\n",
        "$$\n",
        "Entonces para $f_{2}, M = \\frac{4}{5}<1$\n",
        "\n",
        "Por lo que podemos decir que el mètodo converge con los valores iniciales que le dimos."
      ],
      "metadata": {
        "id": "HZWIAYVtbF-i"
      }
    },
    {
      "cell_type": "markdown",
      "source": [
        "## [Regresar al ínidce](https://github.com/neto-riga/metodos_numericos_2/blob/main/portafolio.md#índice)"
      ],
      "metadata": {
        "id": "n_ALZY_a3Qd8"
      }
    }
  ]
}