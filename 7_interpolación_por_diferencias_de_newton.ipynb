{
  "nbformat": 4,
  "nbformat_minor": 0,
  "metadata": {
    "colab": {
      "name": "7 Interpolación por diferencias de Newton.ipynb",
      "provenance": [],
      "collapsed_sections": [],
      "include_colab_link": true
    },
    "kernelspec": {
      "name": "python3",
      "display_name": "Python 3"
    },
    "language_info": {
      "name": "python"
    }
  },
  "cells": [
    {
      "cell_type": "markdown",
      "metadata": {
        "id": "view-in-github",
        "colab_type": "text"
      },
      "source": [
        "<a href=\"https://colab.research.google.com/github/neto-riga/metodos_numericos_2/blob/main/7_interpolaci%C3%B3n_por_diferencias_de_newton.ipynb\" target=\"_parent\"><img src=\"https://colab.research.google.com/assets/colab-badge.svg\" alt=\"Open In Colab\"/></a>"
      ]
    },
    {
      "cell_type": "markdown",
      "source": [
        "## [Regresar al ínidce](https://github.com/neto-riga/metodos_numericos_2/blob/main/portafolio.md#índice)"
      ],
      "metadata": {
        "id": "RPugmF5uGDG4"
      }
    },
    {
      "cell_type": "markdown",
      "source": [
        "#Ejercicio 7. Interpolación por diferencias de Newton.\n",
        "-----\n",
        "Martínez Venegas Raúl \\\\\n",
        "Rivera Gálvez Ernesto "
      ],
      "metadata": {
        "id": "_Ui7LMd4zOab"
      }
    },
    {
      "cell_type": "markdown",
      "source": [
        "La siguiente tabla de valores proporciona las presiones de vapor a diferentes temperaturas para el 1-3 butadieno.\n",
        "\n",
        "|$i$|$X_{i}$|$f(x_{i})$|\n",
        "|---|---------|------|\n",
        "|0|50|24.94|\n",
        "|1|60|30.11|\n",
        "|2|70|36.05|\n",
        "|3|80|42.84|\n",
        "|4|90|50.57|\n",
        "|5|100|59.30|\n",
        "\n",
        "* Obtener una estimación para la presión a 57°. \n",
        "* Estimas la presión a 96°.\n",
        "* Ambos con polinomios de $2^{do}$ y $3^{er}$ grado.\n",
        "* Graficar y elaborar tus conclusiones."
      ],
      "metadata": {
        "id": "6w8Ey4M-zY0w"
      }
    },
    {
      "cell_type": "code",
      "execution_count": null,
      "metadata": {
        "id": "jfr6h1VUys0i"
      },
      "outputs": [],
      "source": [
        "import numpy as np \n",
        "import pandas as pd \n",
        "import sympy as sp\n",
        "import math\n",
        "import matplotlib.pyplot as plt\n",
        "import seaborn as sns\n",
        "sns.set_theme()"
      ]
    },
    {
      "cell_type": "markdown",
      "source": [
        "Implementamos el algoritmo para realizar las diferencias."
      ],
      "metadata": {
        "id": "1gnUj8WI1TJi"
      }
    },
    {
      "cell_type": "code",
      "source": [
        "def Newton(x, y, lugar, n, soluciones):\n",
        "  if lugar == (n):\n",
        "    return \n",
        "  soluciones_lugar = []\n",
        "  for i in range(n-(lugar)):\n",
        "    soluciones_lugar.append((y[i+1] - y[i]))\n",
        "  for _ in range(lugar-1):\n",
        "    soluciones_lugar.append(0)\n",
        "  soluciones.append(soluciones_lugar)\n",
        "  Newton(x, soluciones_lugar, lugar+1, n, soluciones)\n",
        "  return np.array(soluciones)"
      ],
      "metadata": {
        "id": "ieRflDzD1PLp"
      },
      "execution_count": null,
      "outputs": []
    },
    {
      "cell_type": "code",
      "source": [
        "X = [50,60,70,80,90,100]\n",
        "fx = [24.94,30.11,36.05,42.84,50.57,59.30]\n",
        "sol = []\n",
        "sol = Newton(X, fx, 1, 6, sol)\n",
        "pd.DataFrame(sol.T)"
      ],
      "metadata": {
        "colab": {
          "base_uri": "https://localhost:8080/",
          "height": 206
        },
        "id": "SV9aTGe31Z4C",
        "outputId": "23192cfe-7b83-4716-8d4a-d0a29774fa2e"
      },
      "execution_count": null,
      "outputs": [
        {
          "output_type": "execute_result",
          "data": {
            "text/plain": [
              "      0     1     2     3     4\n",
              "0  5.17  0.77  0.08  0.01 -0.04\n",
              "1  5.94  0.85  0.09 -0.03  0.00\n",
              "2  6.79  0.94  0.06  0.00  0.00\n",
              "3  7.73  1.00  0.00  0.00  0.00\n",
              "4  8.73  0.00  0.00  0.00  0.00"
            ],
            "text/html": [
              "\n",
              "  <div id=\"df-9c932fe0-2127-49f2-b84c-64b86197e3fd\">\n",
              "    <div class=\"colab-df-container\">\n",
              "      <div>\n",
              "<style scoped>\n",
              "    .dataframe tbody tr th:only-of-type {\n",
              "        vertical-align: middle;\n",
              "    }\n",
              "\n",
              "    .dataframe tbody tr th {\n",
              "        vertical-align: top;\n",
              "    }\n",
              "\n",
              "    .dataframe thead th {\n",
              "        text-align: right;\n",
              "    }\n",
              "</style>\n",
              "<table border=\"1\" class=\"dataframe\">\n",
              "  <thead>\n",
              "    <tr style=\"text-align: right;\">\n",
              "      <th></th>\n",
              "      <th>0</th>\n",
              "      <th>1</th>\n",
              "      <th>2</th>\n",
              "      <th>3</th>\n",
              "      <th>4</th>\n",
              "    </tr>\n",
              "  </thead>\n",
              "  <tbody>\n",
              "    <tr>\n",
              "      <th>0</th>\n",
              "      <td>5.17</td>\n",
              "      <td>0.77</td>\n",
              "      <td>0.08</td>\n",
              "      <td>0.01</td>\n",
              "      <td>-0.04</td>\n",
              "    </tr>\n",
              "    <tr>\n",
              "      <th>1</th>\n",
              "      <td>5.94</td>\n",
              "      <td>0.85</td>\n",
              "      <td>0.09</td>\n",
              "      <td>-0.03</td>\n",
              "      <td>0.00</td>\n",
              "    </tr>\n",
              "    <tr>\n",
              "      <th>2</th>\n",
              "      <td>6.79</td>\n",
              "      <td>0.94</td>\n",
              "      <td>0.06</td>\n",
              "      <td>0.00</td>\n",
              "      <td>0.00</td>\n",
              "    </tr>\n",
              "    <tr>\n",
              "      <th>3</th>\n",
              "      <td>7.73</td>\n",
              "      <td>1.00</td>\n",
              "      <td>0.00</td>\n",
              "      <td>0.00</td>\n",
              "      <td>0.00</td>\n",
              "    </tr>\n",
              "    <tr>\n",
              "      <th>4</th>\n",
              "      <td>8.73</td>\n",
              "      <td>0.00</td>\n",
              "      <td>0.00</td>\n",
              "      <td>0.00</td>\n",
              "      <td>0.00</td>\n",
              "    </tr>\n",
              "  </tbody>\n",
              "</table>\n",
              "</div>\n",
              "      <button class=\"colab-df-convert\" onclick=\"convertToInteractive('df-9c932fe0-2127-49f2-b84c-64b86197e3fd')\"\n",
              "              title=\"Convert this dataframe to an interactive table.\"\n",
              "              style=\"display:none;\">\n",
              "        \n",
              "  <svg xmlns=\"http://www.w3.org/2000/svg\" height=\"24px\"viewBox=\"0 0 24 24\"\n",
              "       width=\"24px\">\n",
              "    <path d=\"M0 0h24v24H0V0z\" fill=\"none\"/>\n",
              "    <path d=\"M18.56 5.44l.94 2.06.94-2.06 2.06-.94-2.06-.94-.94-2.06-.94 2.06-2.06.94zm-11 1L8.5 8.5l.94-2.06 2.06-.94-2.06-.94L8.5 2.5l-.94 2.06-2.06.94zm10 10l.94 2.06.94-2.06 2.06-.94-2.06-.94-.94-2.06-.94 2.06-2.06.94z\"/><path d=\"M17.41 7.96l-1.37-1.37c-.4-.4-.92-.59-1.43-.59-.52 0-1.04.2-1.43.59L10.3 9.45l-7.72 7.72c-.78.78-.78 2.05 0 2.83L4 21.41c.39.39.9.59 1.41.59.51 0 1.02-.2 1.41-.59l7.78-7.78 2.81-2.81c.8-.78.8-2.07 0-2.86zM5.41 20L4 18.59l7.72-7.72 1.47 1.35L5.41 20z\"/>\n",
              "  </svg>\n",
              "      </button>\n",
              "      \n",
              "  <style>\n",
              "    .colab-df-container {\n",
              "      display:flex;\n",
              "      flex-wrap:wrap;\n",
              "      gap: 12px;\n",
              "    }\n",
              "\n",
              "    .colab-df-convert {\n",
              "      background-color: #E8F0FE;\n",
              "      border: none;\n",
              "      border-radius: 50%;\n",
              "      cursor: pointer;\n",
              "      display: none;\n",
              "      fill: #1967D2;\n",
              "      height: 32px;\n",
              "      padding: 0 0 0 0;\n",
              "      width: 32px;\n",
              "    }\n",
              "\n",
              "    .colab-df-convert:hover {\n",
              "      background-color: #E2EBFA;\n",
              "      box-shadow: 0px 1px 2px rgba(60, 64, 67, 0.3), 0px 1px 3px 1px rgba(60, 64, 67, 0.15);\n",
              "      fill: #174EA6;\n",
              "    }\n",
              "\n",
              "    [theme=dark] .colab-df-convert {\n",
              "      background-color: #3B4455;\n",
              "      fill: #D2E3FC;\n",
              "    }\n",
              "\n",
              "    [theme=dark] .colab-df-convert:hover {\n",
              "      background-color: #434B5C;\n",
              "      box-shadow: 0px 1px 3px 1px rgba(0, 0, 0, 0.15);\n",
              "      filter: drop-shadow(0px 1px 2px rgba(0, 0, 0, 0.3));\n",
              "      fill: #FFFFFF;\n",
              "    }\n",
              "  </style>\n",
              "\n",
              "      <script>\n",
              "        const buttonEl =\n",
              "          document.querySelector('#df-9c932fe0-2127-49f2-b84c-64b86197e3fd button.colab-df-convert');\n",
              "        buttonEl.style.display =\n",
              "          google.colab.kernel.accessAllowed ? 'block' : 'none';\n",
              "\n",
              "        async function convertToInteractive(key) {\n",
              "          const element = document.querySelector('#df-9c932fe0-2127-49f2-b84c-64b86197e3fd');\n",
              "          const dataTable =\n",
              "            await google.colab.kernel.invokeFunction('convertToInteractive',\n",
              "                                                     [key], {});\n",
              "          if (!dataTable) return;\n",
              "\n",
              "          const docLinkHtml = 'Like what you see? Visit the ' +\n",
              "            '<a target=\"_blank\" href=https://colab.research.google.com/notebooks/data_table.ipynb>data table notebook</a>'\n",
              "            + ' to learn more about interactive tables.';\n",
              "          element.innerHTML = '';\n",
              "          dataTable['output_type'] = 'display_data';\n",
              "          await google.colab.output.renderOutput(dataTable, element);\n",
              "          const docLink = document.createElement('div');\n",
              "          docLink.innerHTML = docLinkHtml;\n",
              "          element.appendChild(docLink);\n",
              "        }\n",
              "      </script>\n",
              "    </div>\n",
              "  </div>\n",
              "  "
            ]
          },
          "metadata": {},
          "execution_count": 16
        }
      ]
    },
    {
      "cell_type": "markdown",
      "source": [
        "Aplicamos el algotirmo para obtener los polinonios."
      ],
      "metadata": {
        "id": "vCa3wkuQ3Pvr"
      }
    },
    {
      "cell_type": "code",
      "source": [
        "def poli(arr, X, Y, aprox, pos_y,grado):\n",
        "  res = 0\n",
        "  mult = 1\n",
        "  s = (aprox - X[pos_y])/(X[1]-X[0])\n",
        "  for i in range(grado):\n",
        "    mult *= (s-i)\n",
        "    res += (arr[i]/math.factorial(i+1)) * mult\n",
        "  res += Y[pos_y]\n",
        "  return res"
      ],
      "metadata": {
        "id": "sgvUGF6728eu"
      },
      "execution_count": null,
      "outputs": []
    },
    {
      "cell_type": "markdown",
      "source": [
        "Estimamos para 57° con el polinomios de segundo grado, siendo $F2$:"
      ],
      "metadata": {
        "id": "KTf6qybB3Bi2"
      }
    },
    {
      "cell_type": "code",
      "source": [
        "x = sp.Symbol('x')\n",
        "F2 = lambda x: poli(sol[:,0],X,fx,x,0,2)\n",
        "sp.simplify(poli(sol[:,0],X,fx,x,0,2).evalf(5))"
      ],
      "metadata": {
        "colab": {
          "base_uri": "https://localhost:8080/",
          "height": 38
        },
        "id": "XGIrXSx-29_b",
        "outputId": "b4a6ff2f-3211-45ae-8ecb-bc5736d14e9d"
      },
      "execution_count": null,
      "outputs": [
        {
          "output_type": "execute_result",
          "data": {
            "text/plain": [
              "0.00385*x**2 + 0.0935*x + 10.64"
            ],
            "text/latex": "$\\displaystyle 0.00385 x^{2} + 0.0935 x + 10.64$"
          },
          "metadata": {},
          "execution_count": 18
        }
      ]
    },
    {
      "cell_type": "markdown",
      "source": [
        "Con un valor de:"
      ],
      "metadata": {
        "id": "71RJl65S4znr"
      }
    },
    {
      "cell_type": "code",
      "source": [
        "F2(57)"
      ],
      "metadata": {
        "colab": {
          "base_uri": "https://localhost:8080/"
        },
        "id": "iuWlxpua4zIv",
        "outputId": "316b49fd-1d7a-4c06-943c-c2ddd536aa56"
      },
      "execution_count": null,
      "outputs": [
        {
          "output_type": "execute_result",
          "data": {
            "text/plain": [
              "28.47815"
            ]
          },
          "metadata": {},
          "execution_count": 19
        }
      ]
    },
    {
      "cell_type": "markdown",
      "source": [
        "Para el polinomio de tercer grado $F3$ tenemos:"
      ],
      "metadata": {
        "id": "42_1BERj5L1q"
      }
    },
    {
      "cell_type": "code",
      "source": [
        "F3 = lambda x: poli(sol[:,0],X,fx,x,0,3)\n",
        "sp.simplify(poli(sol[:,0],X,fx,x,0,3).evalf(5))"
      ],
      "metadata": {
        "colab": {
          "base_uri": "https://localhost:8080/",
          "height": 38
        },
        "id": "HkKeEKQZ5UeV",
        "outputId": "fa3981ad-dfd4-48e3-dcb8-0e35565acd29"
      },
      "execution_count": null,
      "outputs": [
        {
          "output_type": "execute_result",
          "data": {
            "text/plain": [
              "1.3333e-5*x**3 + 0.00145*x**2 + 0.23617*x + 7.84"
            ],
            "text/latex": "$\\displaystyle 1.3333 \\cdot 10^{-5} x^{3} + 0.00145 x^{2} + 0.23617 x + 7.84$"
          },
          "metadata": {},
          "execution_count": 20
        }
      ]
    },
    {
      "cell_type": "markdown",
      "source": [
        "Con una estimación de:"
      ],
      "metadata": {
        "id": "L1Hg5g0b5kli"
      }
    },
    {
      "cell_type": "code",
      "source": [
        "F3(57)"
      ],
      "metadata": {
        "colab": {
          "base_uri": "https://localhost:8080/"
        },
        "id": "UTNZy7jV5Zh5",
        "outputId": "4376e399-d350-48b1-e72f-845f7edbfa2a"
      },
      "execution_count": null,
      "outputs": [
        {
          "output_type": "execute_result",
          "data": {
            "text/plain": [
              "28.48179"
            ]
          },
          "metadata": {},
          "execution_count": 21
        }
      ]
    },
    {
      "cell_type": "markdown",
      "source": [
        "Para estimar 96° hacemos uso del método de Newton con diferencias regresivas."
      ],
      "metadata": {
        "id": "t6vL7NLy544V"
      }
    },
    {
      "cell_type": "code",
      "source": [
        "def poliREG(arr, X, Y, aprox, pos_y,grado):\n",
        "  res = 0\n",
        "  mult = 1\n",
        "  s = (aprox - X[pos_y])/(X[1]-X[0])\n",
        "  for i in range(grado):\n",
        "    mult *= (s+i)\n",
        "    res += (arr[i,-(i+1)]/math.factorial(i+1)) * mult\n",
        "  res += Y[pos_y]\n",
        "  return res"
      ],
      "metadata": {
        "id": "s-NO9LhA5sRr"
      },
      "execution_count": null,
      "outputs": []
    },
    {
      "cell_type": "markdown",
      "source": [
        "Estimamos el polinomio de segundo grado siendo $F22$:"
      ],
      "metadata": {
        "id": "vRzIB5Z_6W71"
      }
    },
    {
      "cell_type": "code",
      "source": [
        "F22 = lambda x: poliREG(sol,X,fx,x,5,2)\n",
        "sp.simplify(poliREG(sol,X,fx,x,5,2).evalf(5))"
      ],
      "metadata": {
        "colab": {
          "base_uri": "https://localhost:8080/",
          "height": 38
        },
        "id": "BTNsnsw16P3l",
        "outputId": "788b67e1-ec01-49d0-f26c-2bd1005d84ec"
      },
      "execution_count": null,
      "outputs": [
        {
          "output_type": "execute_result",
          "data": {
            "text/plain": [
              "0.005*x**2 - 0.077001*x + 17.0"
            ],
            "text/latex": "$\\displaystyle 0.005 x^{2} - 0.077001 x + 17.0$"
          },
          "metadata": {},
          "execution_count": 23
        }
      ]
    },
    {
      "cell_type": "markdown",
      "source": [
        "En 96°:"
      ],
      "metadata": {
        "id": "ZCejRCYZ66fW"
      }
    },
    {
      "cell_type": "code",
      "source": [
        "F22(96)"
      ],
      "metadata": {
        "colab": {
          "base_uri": "https://localhost:8080/"
        },
        "id": "7N39Kcn17ABi",
        "outputId": "60793094-686e-4581-af23-e7de53914131"
      },
      "execution_count": null,
      "outputs": [
        {
          "output_type": "execute_result",
          "data": {
            "text/plain": [
              "55.687999999999995"
            ]
          },
          "metadata": {},
          "execution_count": 24
        }
      ]
    },
    {
      "cell_type": "markdown",
      "source": [
        "Estimamos el polinomio de tercer grado siendo $F33$"
      ],
      "metadata": {
        "id": "ddFjJxCw7KDY"
      }
    },
    {
      "cell_type": "code",
      "source": [
        "F33 = lambda x: poliREG(sol,X,fx,x,5,3)\n",
        "sp.simplify(poliREG(sol,X,fx,x,5,3).evalf(5))"
      ],
      "metadata": {
        "colab": {
          "base_uri": "https://localhost:8080/",
          "height": 38
        },
        "id": "2oYWGicx7RvN",
        "outputId": "22877d46-0e28-4dbd-c7f3-be2d345df30b"
      },
      "execution_count": null,
      "outputs": [
        {
          "output_type": "execute_result",
          "data": {
            "text/plain": [
              "1.0e-5*x**3 + 0.0023*x**2 + 0.165*x + 9.8"
            ],
            "text/latex": "$\\displaystyle 1.0 \\cdot 10^{-5} x^{3} + 0.0023 x^{2} + 0.165 x + 9.8$"
          },
          "metadata": {},
          "execution_count": 25
        }
      ]
    },
    {
      "cell_type": "markdown",
      "source": [
        "En 96° tenemos:"
      ],
      "metadata": {
        "id": "jnp6UstB7ZHl"
      }
    },
    {
      "cell_type": "code",
      "source": [
        "F33(96)"
      ],
      "metadata": {
        "colab": {
          "base_uri": "https://localhost:8080/"
        },
        "id": "DZOaohZs7cck",
        "outputId": "6c614c9b-d31d-414e-f500-088430d15c19"
      },
      "execution_count": null,
      "outputs": [
        {
          "output_type": "execute_result",
          "data": {
            "text/plain": [
              "55.68416"
            ]
          },
          "metadata": {},
          "execution_count": 26
        }
      ]
    },
    {
      "cell_type": "markdown",
      "source": [
        "Graficando obtenemos"
      ],
      "metadata": {
        "id": "20hpecdnBNpA"
      }
    },
    {
      "cell_type": "code",
      "source": [
        "x_ = np.linspace(45, 105, 100)\n",
        "plt.figure(figsize=(10,10))\n",
        "plt.scatter(X, fx, marker=\"^\", s=130, c='c', alpha=0.8)\n",
        "plt.plot(x_, F2(x_), x_, F3(x_))\n",
        "plt.title(\"Polinomios para aproximar la presion a 57°\")\n",
        "plt.legend([\"Polinomio de 2do grado\", \"Polinomio de 3er grado\", \"Datos\"])\n",
        "plt.xlabel(\"Temperatura °\")\n",
        "plt.ylabel(\"Presión\")\n",
        "\n",
        "plt.show()"
      ],
      "metadata": {
        "colab": {
          "base_uri": "https://localhost:8080/",
          "height": 627
        },
        "id": "ROmZ7GSTBQTS",
        "outputId": "ea4cd07b-ebec-4c35-892c-0114f07d9865"
      },
      "execution_count": null,
      "outputs": [
        {
          "output_type": "display_data",
          "data": {
            "text/plain": [
              "<Figure size 720x720 with 1 Axes>"
            ],
            "image/png": "[encoded data removed]"
          },
          "metadata": {
            "needs_background": "light"
          }
        }
      ]
    },
    {
      "cell_type": "code",
      "source": [
        "x_ = np.linspace(45, 105, 100)\n",
        "plt.figure(figsize=(10,10))\n",
        "plt.scatter(X, fx, marker=\"^\", s=130, c='c', alpha=0.8)\n",
        "plt.plot(x_, F22(x_), x_, F33(x_))\n",
        "plt.title(\"Polinomios para aproximar la presion a 96°\")\n",
        "plt.legend([\"Polinomio de 2do grado\", \"Polinomio de 3er grado\", \"Datos\"])\n",
        "plt.xlabel(\"Temperatura °\")\n",
        "plt.ylabel(\"Presión\")\n",
        "\n",
        "plt.show()"
      ],
      "metadata": {
        "colab": {
          "base_uri": "https://localhost:8080/",
          "height": 627
        },
        "id": "v-VNc8V4BnPZ",
        "outputId": "ecb88e84-3163-43d2-cf3d-d5133ce3678b"
      },
      "execution_count": null,
      "outputs": [
        {
          "output_type": "display_data",
          "data": {
            "text/plain": [
              "<Figure size 720x720 with 1 Axes>"
            ],
            "image/png": "[encoded data removed]"
          },
          "metadata": {
            "needs_background": "light"
          }
        }
      ]
    },
    {
      "cell_type": "markdown",
      "source": [
        "## Conlcusiones\n",
        "Notemos que el polinomio que se obtuvo mediante el método de Newton progresivo tiene valores muy similares para las temperaturas bajas, es decir, para los valores cercanos al que se requiere aproximar; pero conforme aumenta la temperatura, las funciones empiezan a distanciarse entre ellas.\n",
        "\n",
        "De manera similar, cuando se utiliza el método de Newton regresivo se obtienen valores muy cercanos alrededor del punto a aproximar, sin embargo podemos ver la diferencia de los polinomios para las temperaturas más bajas.\n",
        "\n"
      ],
      "metadata": {
        "id": "cCsbxvDEHUyZ"
      }
    },
    {
      "cell_type": "markdown",
      "source": [
        "## [Regresar al ínidce](https://github.com/neto-riga/metodos_numericos_2/blob/main/portafolio.md#índice)"
      ],
      "metadata": {
        "id": "3ro_-taXGEvM"
      }
    }
  ]
}