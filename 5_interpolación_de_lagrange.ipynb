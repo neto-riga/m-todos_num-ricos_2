{
  "nbformat": 4,
  "nbformat_minor": 0,
  "metadata": {
    "colab": {
      "name": "5 Interpolación de Lagrange.ipynb",
      "provenance": [],
      "collapsed_sections": [],
      "include_colab_link": true
    },
    "kernelspec": {
      "name": "python3",
      "display_name": "Python 3"
    },
    "language_info": {
      "name": "python"
    }
  },
  "cells": [
    {
      "cell_type": "markdown",
      "metadata": {
        "id": "view-in-github",
        "colab_type": "text"
      },
      "source": [
        "<a href=\"https://colab.research.google.com/github/neto-riga/metodos_numericos_2/blob/main/5_interpolaci%C3%B3n_de_lagrange.ipynb\" target=\"_parent\"><img src=\"https://colab.research.google.com/assets/colab-badge.svg\" alt=\"Open In Colab\"/></a>"
      ]
    },
    {
      "cell_type": "markdown",
      "source": [
        "## [Regresar al ínidce](https://github.com/neto-riga/metodos_numericos_2/blob/main/portafolio.md#índice)"
      ],
      "metadata": {
        "id": "_6qaLByWEuaX"
      }
    },
    {
      "cell_type": "markdown",
      "source": [
        "#Interpolación de Lagrange \n",
        "----\n",
        "\n"
      ],
      "metadata": {
        "id": "Ln-4wYlD_L07"
      }
    },
    {
      "cell_type": "markdown",
      "source": [
        "La siguiente tabla muestra el porcentaje de divorcios por año de un estado particular. \n",
        "\n",
        "|Año|Divorcios|\n",
        "|---|---------|\n",
        "|12|7.9|\n",
        "|14|13.1|\n",
        "|15|10.7|\n",
        "|18|18.6|\n",
        "\n",
        "* Estimar el porcentaje de divorcios para el año 2016.\n",
        "* Construye polinomios de grado 2 y 3 para las estimaciones. \n",
        "* Elabora gráficas. \n",
        "* Realiza comparaciones y saca tus conclusiones."
      ],
      "metadata": {
        "id": "j4oXnMGq65Ib"
      }
    },
    {
      "cell_type": "code",
      "execution_count": null,
      "metadata": {
        "id": "CajnNrs_WfQW"
      },
      "outputs": [],
      "source": [
        "import numpy as np\n",
        "import pandas as pd \n",
        "import matplotlib.pyplot as plt \n",
        "import seaborn as sns\n",
        "sns.set_theme()"
      ]
    },
    {
      "cell_type": "markdown",
      "source": [
        "Implementamos el método."
      ],
      "metadata": {
        "id": "-J-PVbv9XxlQ"
      }
    },
    {
      "cell_type": "code",
      "source": [
        "def cocientes_lag(x, n, val, pos, lugar_inicial):\n",
        "  \"\"\" Determinar el cociente de Lagrange pasando un\n",
        "  vector de tamaño n+1, una constante con valor n, el\n",
        "  valor a sustituir, y el número del cociente.\"\"\"\n",
        "\n",
        "  numerador = 1\n",
        "  denominador = 1\n",
        "  for i in range(n):\n",
        "    if i != pos:\n",
        "      numerador *= val - x[i+lugar_inicial]\n",
        "      denominador *= x[pos+lugar_inicial] - x[i+lugar_inicial] \n",
        "  return numerador / denominador\n",
        "def polinomio_lag(x, y, grado, val, lugar_x0):\n",
        "  res = 0\n",
        "  C=[]\n",
        "  for i in range(grado):\n",
        "    res += cocientes_lag(x, grado, val, i, lugar_x0) * y[i+lugar_x0]\n",
        "  return res"
      ],
      "metadata": {
        "id": "y0Fb3xGf65g9"
      },
      "execution_count": null,
      "outputs": []
    },
    {
      "cell_type": "markdown",
      "source": [
        "Realizamos las aproximaciones para $f(16)$ con los polinomios de segundo y tercer grado, además se muestran dichas aproximaciones."
      ],
      "metadata": {
        "id": "ubKOILUNZojA"
      }
    },
    {
      "cell_type": "code",
      "source": [
        "año = [12, 14, 15, 18]\n",
        "divorcios = [7.9, 13.1, 10.7, 18.6]\n",
        "val=16\n",
        "# Estimando con polinomio de grado 2\n",
        "g2=polinomio_lag(año, divorcios, 3, val=16, lugar_x0=1)\n",
        "# Estimando con polinomio de grado 3\n",
        "g3=polinomio_lag(año, divorcios, 4, val=16, lugar_x0=0)\n",
        "G=[g2,g3]\n",
        "df=pd.DataFrame()\n",
        "df['n']=[2,3]\n",
        "df[f'Pn({val})']=G\n",
        "df2 = df.set_index('n')\n",
        "df2"
      ],
      "metadata": {
        "colab": {
          "base_uri": "https://localhost:8080/",
          "height": 143
        },
        "id": "BVDnGB7PWtc3",
        "outputId": "3b678029-1d37-4b4e-a131-9f4e988e39f2"
      },
      "execution_count": null,
      "outputs": [
        {
          "output_type": "execute_result",
          "data": {
            "text/html": [
              "\n",
              "  <div id=\"df-33a58b78-1a70-46ea-9a1e-2e5c217ec134\">\n",
              "    <div class=\"colab-df-container\">\n",
              "      <div>\n",
              "<style scoped>\n",
              "    .dataframe tbody tr th:only-of-type {\n",
              "        vertical-align: middle;\n",
              "    }\n",
              "\n",
              "    .dataframe tbody tr th {\n",
              "        vertical-align: top;\n",
              "    }\n",
              "\n",
              "    .dataframe thead th {\n",
              "        text-align: right;\n",
              "    }\n",
              "</style>\n",
              "<table border=\"1\" class=\"dataframe\">\n",
              "  <thead>\n",
              "    <tr style=\"text-align: right;\">\n",
              "      <th></th>\n",
              "      <th>Pn(16)</th>\n",
              "    </tr>\n",
              "    <tr>\n",
              "      <th>n</th>\n",
              "      <th></th>\n",
              "    </tr>\n",
              "  </thead>\n",
              "  <tbody>\n",
              "    <tr>\n",
              "      <th>2</th>\n",
              "      <td>10.816667</td>\n",
              "    </tr>\n",
              "    <tr>\n",
              "      <th>3</th>\n",
              "      <td>8.866667</td>\n",
              "    </tr>\n",
              "  </tbody>\n",
              "</table>\n",
              "</div>\n",
              "      <button class=\"colab-df-convert\" onclick=\"convertToInteractive('df-33a58b78-1a70-46ea-9a1e-2e5c217ec134')\"\n",
              "              title=\"Convert this dataframe to an interactive table.\"\n",
              "              style=\"display:none;\">\n",
              "        \n",
              "  <svg xmlns=\"http://www.w3.org/2000/svg\" height=\"24px\"viewBox=\"0 0 24 24\"\n",
              "       width=\"24px\">\n",
              "    <path d=\"M0 0h24v24H0V0z\" fill=\"none\"/>\n",
              "    <path d=\"M18.56 5.44l.94 2.06.94-2.06 2.06-.94-2.06-.94-.94-2.06-.94 2.06-2.06.94zm-11 1L8.5 8.5l.94-2.06 2.06-.94-2.06-.94L8.5 2.5l-.94 2.06-2.06.94zm10 10l.94 2.06.94-2.06 2.06-.94-2.06-.94-.94-2.06-.94 2.06-2.06.94z\"/><path d=\"M17.41 7.96l-1.37-1.37c-.4-.4-.92-.59-1.43-.59-.52 0-1.04.2-1.43.59L10.3 9.45l-7.72 7.72c-.78.78-.78 2.05 0 2.83L4 21.41c.39.39.9.59 1.41.59.51 0 1.02-.2 1.41-.59l7.78-7.78 2.81-2.81c.8-.78.8-2.07 0-2.86zM5.41 20L4 18.59l7.72-7.72 1.47 1.35L5.41 20z\"/>\n",
              "  </svg>\n",
              "      </button>\n",
              "      \n",
              "  <style>\n",
              "    .colab-df-container {\n",
              "      display:flex;\n",
              "      flex-wrap:wrap;\n",
              "      gap: 12px;\n",
              "    }\n",
              "\n",
              "    .colab-df-convert {\n",
              "      background-color: #E8F0FE;\n",
              "      border: none;\n",
              "      border-radius: 50%;\n",
              "      cursor: pointer;\n",
              "      display: none;\n",
              "      fill: #1967D2;\n",
              "      height: 32px;\n",
              "      padding: 0 0 0 0;\n",
              "      width: 32px;\n",
              "    }\n",
              "\n",
              "    .colab-df-convert:hover {\n",
              "      background-color: #E2EBFA;\n",
              "      box-shadow: 0px 1px 2px rgba(60, 64, 67, 0.3), 0px 1px 3px 1px rgba(60, 64, 67, 0.15);\n",
              "      fill: #174EA6;\n",
              "    }\n",
              "\n",
              "    [theme=dark] .colab-df-convert {\n",
              "      background-color: #3B4455;\n",
              "      fill: #D2E3FC;\n",
              "    }\n",
              "\n",
              "    [theme=dark] .colab-df-convert:hover {\n",
              "      background-color: #434B5C;\n",
              "      box-shadow: 0px 1px 3px 1px rgba(0, 0, 0, 0.15);\n",
              "      filter: drop-shadow(0px 1px 2px rgba(0, 0, 0, 0.3));\n",
              "      fill: #FFFFFF;\n",
              "    }\n",
              "  </style>\n",
              "\n",
              "      <script>\n",
              "        const buttonEl =\n",
              "          document.querySelector('#df-33a58b78-1a70-46ea-9a1e-2e5c217ec134 button.colab-df-convert');\n",
              "        buttonEl.style.display =\n",
              "          google.colab.kernel.accessAllowed ? 'block' : 'none';\n",
              "\n",
              "        async function convertToInteractive(key) {\n",
              "          const element = document.querySelector('#df-33a58b78-1a70-46ea-9a1e-2e5c217ec134');\n",
              "          const dataTable =\n",
              "            await google.colab.kernel.invokeFunction('convertToInteractive',\n",
              "                                                     [key], {});\n",
              "          if (!dataTable) return;\n",
              "\n",
              "          const docLinkHtml = 'Like what you see? Visit the ' +\n",
              "            '<a target=\"_blank\" href=https://colab.research.google.com/notebooks/data_table.ipynb>data table notebook</a>'\n",
              "            + ' to learn more about interactive tables.';\n",
              "          element.innerHTML = '';\n",
              "          dataTable['output_type'] = 'display_data';\n",
              "          await google.colab.output.renderOutput(dataTable, element);\n",
              "          const docLink = document.createElement('div');\n",
              "          docLink.innerHTML = docLinkHtml;\n",
              "          element.appendChild(docLink);\n",
              "        }\n",
              "      </script>\n",
              "    </div>\n",
              "  </div>\n",
              "  "
            ],
            "text/plain": [
              "      Pn(16)\n",
              "n           \n",
              "2  10.816667\n",
              "3   8.866667"
            ]
          },
          "metadata": {},
          "execution_count": 3
        }
      ]
    },
    {
      "cell_type": "markdown",
      "source": [
        "Observamos las graficas de las funciones generadas con el método."
      ],
      "metadata": {
        "id": "ezNVmLI6ika8"
      }
    },
    {
      "cell_type": "code",
      "source": [
        "#@title\n",
        "fig=plt.figure(figsize=(10,8))\n",
        "X1 = np.linspace(14, 18, 100)\n",
        "X2=np.linspace(12, 18, 100)\n",
        "X11=np.linspace(10, 14, 100)\n",
        "X12=np.linspace(18, 20, 100)\n",
        "X3=np.linspace(10, 12, 100)\n",
        "plt.plot(X1, polinomio_lag(año, divorcios, 3, X1, 1),color='b',label=\"Cuadrática\")\n",
        "plt.plot(X11, polinomio_lag(año, divorcios, 3, X11, 1),linestyle='--',color='b')\n",
        "plt.plot(X12, polinomio_lag(año, divorcios, 3, X12, 1),linestyle='--',color='b')\n",
        "plt.plot(X12, polinomio_lag(año, divorcios, 4, X12, 0),linestyle='--',color='r')\n",
        "plt.plot(X3, polinomio_lag(año, divorcios, 4, X3, 0),linestyle='--',color='r')\n",
        "plt.plot(X2, polinomio_lag(año, divorcios, 4, X2, 0),color='r',label=\"Cúbica\")\n",
        "plt.scatter(año,divorcios)\n",
        "plt.legend(loc=\"upper left\")\n",
        "plt.rc('legend', fontsize=15)"
      ],
      "metadata": {
        "colab": {
          "base_uri": "https://localhost:8080/",
          "height": 485
        },
        "id": "xGYzGogM5Wqy",
        "outputId": "93150b03-040d-4fb7-934f-9f070281de50",
        "cellView": "form"
      },
      "execution_count": null,
      "outputs": [
        {
          "output_type": "display_data",
          "data": {
            "image/png": "[encoded data removed]",
            "text/plain": [
              "<Figure size 720x576 with 1 Axes>"
            ]
          },
          "metadata": {
            "needs_background": "light"
          }
        }
      ]
    },
    {
      "cell_type": "markdown",
      "source": [
        "Notemos que $P_{3}(X)$ nos proporciona una mejor aproximación a $P(16)$, pues toma en cuenta todos los datos que nos son proporcionados."
      ],
      "metadata": {
        "id": "ed_wdyfsjEvT"
      }
    },
    {
      "cell_type": "markdown",
      "source": [
        "## [Regresar al ínidce](https://github.com/neto-riga/metodos_numericos_2/blob/main/portafolio.md#índice)"
      ],
      "metadata": {
        "id": "yQEZ50y4Evs8"
      }
    }
  ]
}