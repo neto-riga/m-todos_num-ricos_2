{
  "nbformat": 4,
  "nbformat_minor": 0,
  "metadata": {
    "colab": {
      "name": "8 Fórmula de Hermite.ipynb",
      "provenance": [],
      "collapsed_sections": [],
      "include_colab_link": true
    },
    "kernelspec": {
      "name": "python3",
      "display_name": "Python 3"
    },
    "language_info": {
      "name": "python"
    }
  },
  "cells": [
    {
      "cell_type": "markdown",
      "metadata": {
        "id": "view-in-github",
        "colab_type": "text"
      },
      "source": [
        "<a href=\"https://colab.research.google.com/github/neto-riga/metodos_numericos_2/blob/main/8_formula_de_hermite.ipynb\" target=\"_parent\"><img src=\"https://colab.research.google.com/assets/colab-badge.svg\" alt=\"Open In Colab\"/></a>"
      ]
    },
    {
      "cell_type": "markdown",
      "source": [
        "## [Regresar al ínidce](https://github.com/neto-riga/metodos_numericos_2/blob/main/portafolio.md#índice)"
      ],
      "metadata": {
        "id": "P-DItC7OGh8D"
      }
    },
    {
      "cell_type": "markdown",
      "source": [
        "#Ejercicio 8. Fórmula de Herminte\n",
        "---"
      ],
      "metadata": {
        "id": "JB76y1N2_3K5"
      }
    },
    {
      "cell_type": "markdown",
      "source": [
        "Sea el siguiente problema. Un automóvil realiza un recorrido por una carretera recta y se cronometra su recorrido en varios puntos, los cuales se muestran en la siguiente tabla:\n",
        "\n",
        "|$t$(seg)$x$|3|5|8|13|\n",
        "|----|--|--|--|--|\n",
        "|$d$(pies)$f(x)$|225|383|625|993|\n",
        "|$v$(pies/seg)$f'(x)$|77|80|74|72|\n",
        "\n",
        "* Estimar la diatancia para $t$ = 4$s$, $t$ = 6.5$s$, $t$ = 12$s$.\n",
        "* Obtener las estimaciones con 8 cifras.\n"
      ],
      "metadata": {
        "id": "dRAjCQi5AKAu"
      }
    },
    {
      "cell_type": "code",
      "execution_count": null,
      "metadata": {
        "id": "-PB_pDOyU5iu"
      },
      "outputs": [],
      "source": [
        "import numpy as np\n",
        "import pandas as pd\n",
        "import matplotlib.pyplot as plt\n",
        "import seaborn as sns; sns.set_theme()\n",
        "import sympy as sp"
      ]
    },
    {
      "cell_type": "markdown",
      "source": [
        "Definimos el algoritmo para obtener los coeficientes de Lagrange. "
      ],
      "metadata": {
        "id": "9wn9B0--FvAv"
      }
    },
    {
      "cell_type": "code",
      "source": [
        "def cocientes_lag(x, n, val, pos, lugar_inicial):\n",
        "  \"\"\" Determinar el cociente de Lagrange pasando un\n",
        "  vector de tamaño n+1, una constante con valor n, el\n",
        "  valor a sustituir, y el número del cociente.\"\"\"\n",
        "\n",
        "  numerador = 1\n",
        "  denominador = 1\n",
        "  for i in range(n):\n",
        "    if i != pos:\n",
        "      numerador *= val - x[i+lugar_inicial]\n",
        "      denominador *= x[pos+lugar_inicial] - x[i+lugar_inicial] \n",
        "  return numerador / denominador"
      ],
      "metadata": {
        "id": "e--nLnvuXRnk"
      },
      "execution_count": null,
      "outputs": []
    },
    {
      "cell_type": "markdown",
      "source": [
        "Obtenemos $L$ y $L'$"
      ],
      "metadata": {
        "id": "b1jUF_vgF25M"
      }
    },
    {
      "cell_type": "code",
      "source": [
        "def ls_ls_primas(x, grado, val, lugar_x0=0):\n",
        "  ls = np.zeros(grado)\n",
        "  ls_primas = np.zeros(grado)\n",
        "  x_symbol = sp.Symbol('x')\n",
        "  \n",
        "  for i in range(grado):\n",
        "    temp = cocientes_lag(x, grado, x_symbol, i, lugar_x0)\n",
        "    ls[i] = temp.subs(x_symbol, val)\n",
        "    ls_primas[i] = sp.diff(temp, x_symbol).subs(x_symbol, x[i])\n",
        "\n",
        "  return ls, ls_primas"
      ],
      "metadata": {
        "id": "H71PorSckiBB"
      },
      "execution_count": null,
      "outputs": []
    },
    {
      "cell_type": "markdown",
      "source": [
        "Obtenemos $H_{n,i}(x)$ y $\\hat{H}_{n,i}(x)$."
      ],
      "metadata": {
        "id": "8P-OgFViGFPE"
      }
    },
    {
      "cell_type": "code",
      "source": [
        "def hs_hs_gorrito(x, ls, ls_primas, grado, val):\n",
        "  hs = np.zeros(grado)\n",
        "  hs_gorrito = np.zeros(grado)\n",
        "  for i in range(grado):\n",
        "    hs[i] = (1 - 2 * (val - x[i]) * ls_primas[i]) * ls[i] ** 2\n",
        "    hs_gorrito[i] = (val - x[i]) * ls[i] ** 2\n",
        "  \n",
        "  return hs, hs_gorrito"
      ],
      "metadata": {
        "id": "3KsbqnoBm-Hk"
      },
      "execution_count": null,
      "outputs": []
    },
    {
      "cell_type": "markdown",
      "source": [
        "Aplicamos el método"
      ],
      "metadata": {
        "id": "jO1FILFgHV-Y"
      }
    },
    {
      "cell_type": "code",
      "source": [
        "def main_hermite(x, fx, fxx, grado, val, lugar_inicial=0):\n",
        "  ls, ls_primas = ls_ls_primas(x, grado, val)\n",
        "  hs, hs_gorrito = hs_hs_gorrito(x, ls, ls_primas, grado, val)\n",
        "  res = 0\n",
        "  for i, fi in enumerate(fx):\n",
        "    res += fi * hs[i]\n",
        "  for i, prima_i in enumerate(fpx):\n",
        "    res += prima_i * hs_gorrito[i]\n",
        "  return res"
      ],
      "metadata": {
        "id": "X40yHjja5CHN"
      },
      "execution_count": null,
      "outputs": []
    },
    {
      "cell_type": "code",
      "source": [
        "X = [3,5,8,13]\n",
        "fx = [225,383,625,993]\n",
        "fpx = [77,80,74,72]"
      ],
      "metadata": {
        "id": "hkfNSn3qXicu"
      },
      "execution_count": null,
      "outputs": []
    },
    {
      "cell_type": "code",
      "source": [
        "r = sp.Symbol('r')\n",
        "F = lambda r: main_hermite(X, fx, fpx, 4,r)"
      ],
      "metadata": {
        "id": "G7V5Kr9tI7Hv"
      },
      "execution_count": null,
      "outputs": []
    },
    {
      "cell_type": "markdown",
      "source": [
        "Así, la estimación para $t$=4$s$ es"
      ],
      "metadata": {
        "id": "7_chIw76H6tE"
      }
    },
    {
      "cell_type": "code",
      "source": [
        "main_hermite(X, fx, fpx, 4,4)"
      ],
      "metadata": {
        "colab": {
          "base_uri": "https://localhost:8080/"
        },
        "id": "I_pDve0f6GXm",
        "outputId": "63a93d5e-c987-4ed7-e2a4-47c2f04d1e4b"
      },
      "execution_count": null,
      "outputs": [
        {
          "output_type": "execute_result",
          "data": {
            "text/plain": [
              "303.71757"
            ]
          },
          "metadata": {},
          "execution_count": 33
        }
      ]
    },
    {
      "cell_type": "markdown",
      "source": [
        "Mientras que para $t$=6.5$s$ es"
      ],
      "metadata": {
        "id": "0lKKSbweIIYc"
      }
    },
    {
      "cell_type": "code",
      "source": [
        "main_hermite(X, fx, fpx, 4,6.5)"
      ],
      "metadata": {
        "colab": {
          "base_uri": "https://localhost:8080/"
        },
        "id": "8PgN_mA7IP4g",
        "outputId": "f5e41b33-5f1b-4087-f11b-e795f9b7f034"
      },
      "execution_count": null,
      "outputs": [
        {
          "output_type": "execute_result",
          "data": {
            "text/plain": [
              "505.69335830566405"
            ]
          },
          "metadata": {},
          "execution_count": 34
        }
      ]
    },
    {
      "cell_type": "markdown",
      "source": [
        "Finalmente para $t$=12$s$"
      ],
      "metadata": {
        "id": "Oddoht_HITe2"
      }
    },
    {
      "cell_type": "code",
      "source": [
        "main_hermite(X, fx, fpx, 4,12)"
      ],
      "metadata": {
        "colab": {
          "base_uri": "https://localhost:8080/"
        },
        "id": "3HNxGyjQIX1E",
        "outputId": "9611f966-bc12-4171-803f-6850967c4cd8"
      },
      "execution_count": null,
      "outputs": [
        {
          "output_type": "execute_result",
          "data": {
            "text/plain": [
              "905.1587700000003"
            ]
          },
          "metadata": {},
          "execution_count": 35
        }
      ]
    },
    {
      "cell_type": "markdown",
      "source": [
        "##Conclusiones\n",
        "\n"
      ],
      "metadata": {
        "id": "ci8Ne1nkIuam"
      }
    },
    {
      "cell_type": "markdown",
      "source": [
        "Podemos observar que conforme aumenta el tiempo en el que se cronometra al auto, aumenta también la cantidad de pies que avanza. De igual manera, los valores estimados para la tabla concuerdan y tienen coherencia."
      ],
      "metadata": {
        "id": "dQ7hozvQjexT"
      }
    },
    {
      "cell_type": "markdown",
      "source": [
        "## [Regresar al ínidce](https://github.com/neto-riga/metodos_numericos_2/blob/main/portafolio.md#índice)"
      ],
      "metadata": {
        "id": "63AHdNbNGjaT"
      }
    }
  ]
}