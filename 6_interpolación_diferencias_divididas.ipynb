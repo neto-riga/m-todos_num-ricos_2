{
  "nbformat": 4,
  "nbformat_minor": 0,
  "metadata": {
    "colab": {
      "name": "6_Interpolación_Diferencias_Divididas.ipynb",
      "provenance": [],
      "collapsed_sections": [],
      "include_colab_link": true
    },
    "kernelspec": {
      "name": "python3",
      "display_name": "Python 3"
    },
    "language_info": {
      "name": "python"
    }
  },
  "cells": [
    {
      "cell_type": "markdown",
      "metadata": {
        "id": "view-in-github",
        "colab_type": "text"
      },
      "source": [
        "<a href=\"https://colab.research.google.com/github/neto-riga/metodos_numericos_2/blob/main/6_interpolaci%C3%B3n_diferencias_divididas.ipynb\" target=\"_parent\"><img src=\"https://colab.research.google.com/assets/colab-badge.svg\" alt=\"Open In Colab\"/></a>"
      ]
    },
    {
      "cell_type": "markdown",
      "source": [
        "## [Regresar al ínidce](https://github.com/neto-riga/metodos_numericos_2/blob/main/portafolio.md#índice)"
      ],
      "metadata": {
        "id": "3VUjj1mgFpUw"
      }
    },
    {
      "cell_type": "markdown",
      "source": [
        "#Interpolación por diferencias divididas.\n",
        "---"
      ],
      "metadata": {
        "id": "Ck3Oy2BKT8of"
      }
    },
    {
      "cell_type": "markdown",
      "source": [
        "La siguiente tabla presenta decesos por COVID del 25 de enero al 3 de febrero de 2022. \n",
        "Como se puede observar, los números reportados para los días 6 y 7 parecen atípicos, por lo que se elliminarán y estimarán por interpolación empleando el método de diferencias divididas. \n",
        "\n",
        "|Fecha|Día|Decs|\n",
        "|---|---------|-----|\n",
        "|25/01/2022|1|475|\n",
        "|26/01/2022|2|532|\n",
        "|27/01/2022|3|495|\n",
        "|28/01/2022|4|437|\n",
        "|29/01/2022|5|522|\n",
        "|30/01/2022|6|131|\n",
        "|31/01/2022|7|198|\n",
        "|01/02/2022|8|829|\n",
        "|02/02/2022|9|573|\n",
        "|03/02/2022|10|648|\n",
        "\n",
        "1. Construir un polinomio para interpolar del 25 al 29 de enero. \n",
        "2. Graficar el polinomio.\n",
        "3. Elegir puntos y grado del polinomio para estimar valores para los días 6 y 7. \n",
        "4. Graficar el polinomio que hayas elegido.\n",
        "5. Elaborar conclusiones."
      ],
      "metadata": {
        "id": "Q9fiTXY5UICO"
      }
    },
    {
      "cell_type": "code",
      "source": [
        "import numpy as np\n",
        "import pandas as pd\n",
        "import sympy as sp\n",
        "import matplotlib.pyplot as plt\n",
        "import seaborn as sns \n",
        "sns.set_theme()"
      ],
      "metadata": {
        "id": "Drh7v4p1DUfI"
      },
      "execution_count": null,
      "outputs": []
    },
    {
      "cell_type": "markdown",
      "source": [
        "Aplicamos el método para obtener los coeficientes de los polinomios."
      ],
      "metadata": {
        "id": "nuL2mbgAj_22"
      }
    },
    {
      "cell_type": "code",
      "execution_count": null,
      "metadata": {
        "id": "VEyns9mMBxp8"
      },
      "outputs": [],
      "source": [
        "def diferencias_divididas(x, y, lugar, n, soluciones):\n",
        "  if lugar == (n+1):\n",
        "    return \n",
        "  \n",
        "  soluciones_lugar = []\n",
        "  for i in range(n-(lugar)):\n",
        "    soluciones_lugar.append((y[i+1] - y[i])/(x[i+lugar]-x[i]))\n",
        "  \n",
        "  for _ in range(lugar-1):\n",
        "    soluciones_lugar.append(0)\n",
        "\n",
        "  soluciones.append(soluciones_lugar)\n",
        "  diferencias_divididas(x, soluciones_lugar, lugar+1, n, soluciones)\n",
        "  return soluciones"
      ]
    },
    {
      "cell_type": "markdown",
      "source": [
        "Interpolamos del día uno al cinco, que corresponden del 25 de enero al 29, obteniendo los siguientes coeficientes:"
      ],
      "metadata": {
        "id": "vM6Mh7y0kMH1"
      }
    },
    {
      "cell_type": "code",
      "source": [
        "X = [1, 2, 3, 4, 5]\n",
        "fx = [475, 532, 495, 437, 522]\n",
        "sol = []\n",
        "sol = diferencias_divididas(X, fx, 1, 5, sol)\n",
        "sol = np.array(sol[:-1])\n",
        "pd.DataFrame(sol)"
      ],
      "metadata": {
        "colab": {
          "base_uri": "https://localhost:8080/",
          "height": 175
        },
        "id": "WQO4M58FDwmV",
        "outputId": "8006e0e9-5c6b-403e-c576-0301aa17bddb"
      },
      "execution_count": null,
      "outputs": [
        {
          "output_type": "execute_result",
          "data": {
            "text/html": [
              "\n",
              "  <div id=\"df-3222755d-2f9d-44e9-837e-f03888263ba6\">\n",
              "    <div class=\"colab-df-container\">\n",
              "      <div>\n",
              "<style scoped>\n",
              "    .dataframe tbody tr th:only-of-type {\n",
              "        vertical-align: middle;\n",
              "    }\n",
              "\n",
              "    .dataframe tbody tr th {\n",
              "        vertical-align: top;\n",
              "    }\n",
              "\n",
              "    .dataframe thead th {\n",
              "        text-align: right;\n",
              "    }\n",
              "</style>\n",
              "<table border=\"1\" class=\"dataframe\">\n",
              "  <thead>\n",
              "    <tr style=\"text-align: right;\">\n",
              "      <th></th>\n",
              "      <th>0</th>\n",
              "      <th>1</th>\n",
              "      <th>2</th>\n",
              "      <th>3</th>\n",
              "    </tr>\n",
              "  </thead>\n",
              "  <tbody>\n",
              "    <tr>\n",
              "      <th>0</th>\n",
              "      <td>57.000000</td>\n",
              "      <td>-37.000000</td>\n",
              "      <td>-58.0</td>\n",
              "      <td>85.0</td>\n",
              "    </tr>\n",
              "    <tr>\n",
              "      <th>1</th>\n",
              "      <td>-47.000000</td>\n",
              "      <td>-10.500000</td>\n",
              "      <td>71.5</td>\n",
              "      <td>0.0</td>\n",
              "    </tr>\n",
              "    <tr>\n",
              "      <th>2</th>\n",
              "      <td>12.166667</td>\n",
              "      <td>27.333333</td>\n",
              "      <td>0.0</td>\n",
              "      <td>0.0</td>\n",
              "    </tr>\n",
              "    <tr>\n",
              "      <th>3</th>\n",
              "      <td>3.791667</td>\n",
              "      <td>0.000000</td>\n",
              "      <td>0.0</td>\n",
              "      <td>0.0</td>\n",
              "    </tr>\n",
              "  </tbody>\n",
              "</table>\n",
              "</div>\n",
              "      <button class=\"colab-df-convert\" onclick=\"convertToInteractive('df-3222755d-2f9d-44e9-837e-f03888263ba6')\"\n",
              "              title=\"Convert this dataframe to an interactive table.\"\n",
              "              style=\"display:none;\">\n",
              "        \n",
              "  <svg xmlns=\"http://www.w3.org/2000/svg\" height=\"24px\"viewBox=\"0 0 24 24\"\n",
              "       width=\"24px\">\n",
              "    <path d=\"M0 0h24v24H0V0z\" fill=\"none\"/>\n",
              "    <path d=\"M18.56 5.44l.94 2.06.94-2.06 2.06-.94-2.06-.94-.94-2.06-.94 2.06-2.06.94zm-11 1L8.5 8.5l.94-2.06 2.06-.94-2.06-.94L8.5 2.5l-.94 2.06-2.06.94zm10 10l.94 2.06.94-2.06 2.06-.94-2.06-.94-.94-2.06-.94 2.06-2.06.94z\"/><path d=\"M17.41 7.96l-1.37-1.37c-.4-.4-.92-.59-1.43-.59-.52 0-1.04.2-1.43.59L10.3 9.45l-7.72 7.72c-.78.78-.78 2.05 0 2.83L4 21.41c.39.39.9.59 1.41.59.51 0 1.02-.2 1.41-.59l7.78-7.78 2.81-2.81c.8-.78.8-2.07 0-2.86zM5.41 20L4 18.59l7.72-7.72 1.47 1.35L5.41 20z\"/>\n",
              "  </svg>\n",
              "      </button>\n",
              "      \n",
              "  <style>\n",
              "    .colab-df-container {\n",
              "      display:flex;\n",
              "      flex-wrap:wrap;\n",
              "      gap: 12px;\n",
              "    }\n",
              "\n",
              "    .colab-df-convert {\n",
              "      background-color: #E8F0FE;\n",
              "      border: none;\n",
              "      border-radius: 50%;\n",
              "      cursor: pointer;\n",
              "      display: none;\n",
              "      fill: #1967D2;\n",
              "      height: 32px;\n",
              "      padding: 0 0 0 0;\n",
              "      width: 32px;\n",
              "    }\n",
              "\n",
              "    .colab-df-convert:hover {\n",
              "      background-color: #E2EBFA;\n",
              "      box-shadow: 0px 1px 2px rgba(60, 64, 67, 0.3), 0px 1px 3px 1px rgba(60, 64, 67, 0.15);\n",
              "      fill: #174EA6;\n",
              "    }\n",
              "\n",
              "    [theme=dark] .colab-df-convert {\n",
              "      background-color: #3B4455;\n",
              "      fill: #D2E3FC;\n",
              "    }\n",
              "\n",
              "    [theme=dark] .colab-df-convert:hover {\n",
              "      background-color: #434B5C;\n",
              "      box-shadow: 0px 1px 3px 1px rgba(0, 0, 0, 0.15);\n",
              "      filter: drop-shadow(0px 1px 2px rgba(0, 0, 0, 0.3));\n",
              "      fill: #FFFFFF;\n",
              "    }\n",
              "  </style>\n",
              "\n",
              "      <script>\n",
              "        const buttonEl =\n",
              "          document.querySelector('#df-3222755d-2f9d-44e9-837e-f03888263ba6 button.colab-df-convert');\n",
              "        buttonEl.style.display =\n",
              "          google.colab.kernel.accessAllowed ? 'block' : 'none';\n",
              "\n",
              "        async function convertToInteractive(key) {\n",
              "          const element = document.querySelector('#df-3222755d-2f9d-44e9-837e-f03888263ba6');\n",
              "          const dataTable =\n",
              "            await google.colab.kernel.invokeFunction('convertToInteractive',\n",
              "                                                     [key], {});\n",
              "          if (!dataTable) return;\n",
              "\n",
              "          const docLinkHtml = 'Like what you see? Visit the ' +\n",
              "            '<a target=\"_blank\" href=https://colab.research.google.com/notebooks/data_table.ipynb>data table notebook</a>'\n",
              "            + ' to learn more about interactive tables.';\n",
              "          element.innerHTML = '';\n",
              "          dataTable['output_type'] = 'display_data';\n",
              "          await google.colab.output.renderOutput(dataTable, element);\n",
              "          const docLink = document.createElement('div');\n",
              "          docLink.innerHTML = docLinkHtml;\n",
              "          element.appendChild(docLink);\n",
              "        }\n",
              "      </script>\n",
              "    </div>\n",
              "  </div>\n",
              "  "
            ],
            "text/plain": [
              "           0          1     2     3\n",
              "0  57.000000 -37.000000 -58.0  85.0\n",
              "1 -47.000000 -10.500000  71.5   0.0\n",
              "2  12.166667  27.333333   0.0   0.0\n",
              "3   3.791667   0.000000   0.0   0.0"
            ]
          },
          "metadata": {},
          "execution_count": 20
        }
      ]
    },
    {
      "cell_type": "markdown",
      "source": [
        "Aplicamos el método para obtener los polinomios."
      ],
      "metadata": {
        "id": "HEl5Nit3kboo"
      }
    },
    {
      "cell_type": "code",
      "source": [
        "def poli(arr, X, Y, aprox, pos_y):\n",
        "  res = 0\n",
        "  mult = 1\n",
        "  \n",
        "  for i, a in enumerate(arr):\n",
        "    mult *= aprox - X[i+pos_y]\n",
        "    res += a * mult\n",
        "    \n",
        "  res += Y[pos_y]\n",
        "  return res"
      ],
      "metadata": {
        "id": "rC6tKJJWG4lz"
      },
      "execution_count": null,
      "outputs": []
    },
    {
      "cell_type": "markdown",
      "source": [
        "Obtenemos el polinomio que interpola del día uno al cinco."
      ],
      "metadata": {
        "id": "eNxEg3wlkhnS"
      }
    },
    {
      "cell_type": "code",
      "source": [
        "x = sp.Symbol('x')\n",
        "F1 = lambda x: poli(sol[:,0], X, fx, x, 0)\n",
        "sp.simplify(poli(sol[:,0], X, fx, x, 0).evalf(5))"
      ],
      "metadata": {
        "colab": {
          "base_uri": "https://localhost:8080/",
          "height": 38
        },
        "id": "G5M-y5HqIlJC",
        "outputId": "1c1e10de-e67d-4f8f-c73b-4e89eba691aa"
      },
      "execution_count": null,
      "outputs": [
        {
          "output_type": "execute_result",
          "data": {
            "text/latex": "$\\displaystyle 3.7917 x^{4} - 25.75 x^{3} + 12.708 x^{2} + 142.25 x + 342.0$",
            "text/plain": [
              "3.7917*x**4 - 25.75*x**3 + 12.708*x**2 + 142.25*x + 342.0"
            ]
          },
          "metadata": {},
          "execution_count": 24
        }
      ]
    },
    {
      "cell_type": "markdown",
      "source": [
        "Graficamos"
      ],
      "metadata": {
        "id": "ZlG5QaK4wDo5"
      }
    },
    {
      "cell_type": "code",
      "source": [
        "fig=plt.figure(figsize=(10,8))\n",
        "X1 = np.linspace(1,5,150)\n",
        "plt.plot(X1, F1(X1))\n",
        "plt.show()"
      ],
      "metadata": {
        "colab": {
          "base_uri": "https://localhost:8080/",
          "height": 485
        },
        "id": "rsCyjpR9wFeF",
        "outputId": "b9fcbbbe-d0d4-4441-bcac-c3ab90bd095b"
      },
      "execution_count": null,
      "outputs": [
        {
          "output_type": "display_data",
          "data": {
            "image/png": "[encoded data removed]",
            "text/plain": [
              "<Figure size 720x576 with 1 Axes>"
            ]
          },
          "metadata": {}
        }
      ]
    },
    {
      "cell_type": "markdown",
      "source": [
        "## Aproximando los valores para el día 6 y 7\n",
        "\n",
        "Después de varias configuraciones para la interpolación, encontramos que los días 4, 5, 8 y 9 fueron los mejores para aproximar los decensos por covid."
      ],
      "metadata": {
        "id": "shOZiAl6uEL8"
      }
    },
    {
      "cell_type": "code",
      "source": [
        "X = [4, 5, 8, 9]\n",
        "fx = [437, 522, 829, 573]\n",
        "sol = []\n",
        "sol = diferencias_divididas(X, fx, 1, 4, sol)\n",
        "sol = np.array(sol[:-1])\n",
        "pd.DataFrame(sol)"
      ],
      "metadata": {
        "colab": {
          "base_uri": "https://localhost:8080/",
          "height": 143
        },
        "id": "stcSX-iktnKC",
        "outputId": "e4bbb9f6-01e1-4849-ee77-8a514524cc22"
      },
      "execution_count": null,
      "outputs": [
        {
          "output_type": "execute_result",
          "data": {
            "text/html": [
              "\n",
              "  <div id=\"df-8d22e0f9-6ecc-45b6-9d41-152063afac86\">\n",
              "    <div class=\"colab-df-container\">\n",
              "      <div>\n",
              "<style scoped>\n",
              "    .dataframe tbody tr th:only-of-type {\n",
              "        vertical-align: middle;\n",
              "    }\n",
              "\n",
              "    .dataframe tbody tr th {\n",
              "        vertical-align: top;\n",
              "    }\n",
              "\n",
              "    .dataframe thead th {\n",
              "        text-align: right;\n",
              "    }\n",
              "</style>\n",
              "<table border=\"1\" class=\"dataframe\">\n",
              "  <thead>\n",
              "    <tr style=\"text-align: right;\">\n",
              "      <th></th>\n",
              "      <th>0</th>\n",
              "      <th>1</th>\n",
              "      <th>2</th>\n",
              "    </tr>\n",
              "  </thead>\n",
              "  <tbody>\n",
              "    <tr>\n",
              "      <th>0</th>\n",
              "      <td>85.000000</td>\n",
              "      <td>102.333333</td>\n",
              "      <td>-256.0</td>\n",
              "    </tr>\n",
              "    <tr>\n",
              "      <th>1</th>\n",
              "      <td>4.333333</td>\n",
              "      <td>-89.583333</td>\n",
              "      <td>0.0</td>\n",
              "    </tr>\n",
              "    <tr>\n",
              "      <th>2</th>\n",
              "      <td>-18.783333</td>\n",
              "      <td>0.000000</td>\n",
              "      <td>0.0</td>\n",
              "    </tr>\n",
              "  </tbody>\n",
              "</table>\n",
              "</div>\n",
              "      <button class=\"colab-df-convert\" onclick=\"convertToInteractive('df-8d22e0f9-6ecc-45b6-9d41-152063afac86')\"\n",
              "              title=\"Convert this dataframe to an interactive table.\"\n",
              "              style=\"display:none;\">\n",
              "        \n",
              "  <svg xmlns=\"http://www.w3.org/2000/svg\" height=\"24px\"viewBox=\"0 0 24 24\"\n",
              "       width=\"24px\">\n",
              "    <path d=\"M0 0h24v24H0V0z\" fill=\"none\"/>\n",
              "    <path d=\"M18.56 5.44l.94 2.06.94-2.06 2.06-.94-2.06-.94-.94-2.06-.94 2.06-2.06.94zm-11 1L8.5 8.5l.94-2.06 2.06-.94-2.06-.94L8.5 2.5l-.94 2.06-2.06.94zm10 10l.94 2.06.94-2.06 2.06-.94-2.06-.94-.94-2.06-.94 2.06-2.06.94z\"/><path d=\"M17.41 7.96l-1.37-1.37c-.4-.4-.92-.59-1.43-.59-.52 0-1.04.2-1.43.59L10.3 9.45l-7.72 7.72c-.78.78-.78 2.05 0 2.83L4 21.41c.39.39.9.59 1.41.59.51 0 1.02-.2 1.41-.59l7.78-7.78 2.81-2.81c.8-.78.8-2.07 0-2.86zM5.41 20L4 18.59l7.72-7.72 1.47 1.35L5.41 20z\"/>\n",
              "  </svg>\n",
              "      </button>\n",
              "      \n",
              "  <style>\n",
              "    .colab-df-container {\n",
              "      display:flex;\n",
              "      flex-wrap:wrap;\n",
              "      gap: 12px;\n",
              "    }\n",
              "\n",
              "    .colab-df-convert {\n",
              "      background-color: #E8F0FE;\n",
              "      border: none;\n",
              "      border-radius: 50%;\n",
              "      cursor: pointer;\n",
              "      display: none;\n",
              "      fill: #1967D2;\n",
              "      height: 32px;\n",
              "      padding: 0 0 0 0;\n",
              "      width: 32px;\n",
              "    }\n",
              "\n",
              "    .colab-df-convert:hover {\n",
              "      background-color: #E2EBFA;\n",
              "      box-shadow: 0px 1px 2px rgba(60, 64, 67, 0.3), 0px 1px 3px 1px rgba(60, 64, 67, 0.15);\n",
              "      fill: #174EA6;\n",
              "    }\n",
              "\n",
              "    [theme=dark] .colab-df-convert {\n",
              "      background-color: #3B4455;\n",
              "      fill: #D2E3FC;\n",
              "    }\n",
              "\n",
              "    [theme=dark] .colab-df-convert:hover {\n",
              "      background-color: #434B5C;\n",
              "      box-shadow: 0px 1px 3px 1px rgba(0, 0, 0, 0.15);\n",
              "      filter: drop-shadow(0px 1px 2px rgba(0, 0, 0, 0.3));\n",
              "      fill: #FFFFFF;\n",
              "    }\n",
              "  </style>\n",
              "\n",
              "      <script>\n",
              "        const buttonEl =\n",
              "          document.querySelector('#df-8d22e0f9-6ecc-45b6-9d41-152063afac86 button.colab-df-convert');\n",
              "        buttonEl.style.display =\n",
              "          google.colab.kernel.accessAllowed ? 'block' : 'none';\n",
              "\n",
              "        async function convertToInteractive(key) {\n",
              "          const element = document.querySelector('#df-8d22e0f9-6ecc-45b6-9d41-152063afac86');\n",
              "          const dataTable =\n",
              "            await google.colab.kernel.invokeFunction('convertToInteractive',\n",
              "                                                     [key], {});\n",
              "          if (!dataTable) return;\n",
              "\n",
              "          const docLinkHtml = 'Like what you see? Visit the ' +\n",
              "            '<a target=\"_blank\" href=https://colab.research.google.com/notebooks/data_table.ipynb>data table notebook</a>'\n",
              "            + ' to learn more about interactive tables.';\n",
              "          element.innerHTML = '';\n",
              "          dataTable['output_type'] = 'display_data';\n",
              "          await google.colab.output.renderOutput(dataTable, element);\n",
              "          const docLink = document.createElement('div');\n",
              "          docLink.innerHTML = docLinkHtml;\n",
              "          element.appendChild(docLink);\n",
              "        }\n",
              "      </script>\n",
              "    </div>\n",
              "  </div>\n",
              "  "
            ],
            "text/plain": [
              "           0           1      2\n",
              "0  85.000000  102.333333 -256.0\n",
              "1   4.333333  -89.583333    0.0\n",
              "2 -18.783333    0.000000    0.0"
            ]
          },
          "metadata": {},
          "execution_count": 30
        }
      ]
    },
    {
      "cell_type": "code",
      "source": [
        "print(f\"Para el día 6 aproximamos a : {round(poli(sol[:,0], X, fx, 6, 0), 0)} decensos\")\n",
        "print(f\"Para el día 7 obtuvimos: {round(poli(sol[:,0], X, fx, 7, 0),0)} decensos\")"
      ],
      "metadata": {
        "colab": {
          "base_uri": "https://localhost:8080/"
        },
        "id": "AOhSxj_ktq6H",
        "outputId": "f4142026-1236-47ae-fc8c-df47975997bd"
      },
      "execution_count": null,
      "outputs": [
        {
          "output_type": "stream",
          "name": "stdout",
          "text": [
            "Para el día 6 aproximamos a : 691.0 decensos\n",
            "Para el día 7 obtuvimos: 831.0 decensos\n"
          ]
        }
      ]
    },
    {
      "cell_type": "markdown",
      "source": [
        "Con este polinomio de interpolación"
      ],
      "metadata": {
        "id": "bu0kr0T9u3w-"
      }
    },
    {
      "cell_type": "code",
      "source": [
        "x = sp.Symbol('x')\n",
        "F2 = lambda x: poli(sol[:,0], X, fx, x, 0)\n",
        "sp.simplify(poli(sol[:,0], X, fx, x, 0).evalf(5))"
      ],
      "metadata": {
        "colab": {
          "base_uri": "https://localhost:8080/",
          "height": 38
        },
        "id": "TR0AmcaFt-3B",
        "outputId": "7edaa989-a113-4cf9-a519-8825ed1eb6fb"
      },
      "execution_count": null,
      "outputs": [
        {
          "output_type": "execute_result",
          "data": {
            "text/latex": "$\\displaystyle - 18.783 x^{3} + 323.65 x^{2} - 1682.1 x + 3189.0$",
            "text/plain": [
              "-18.783*x**3 + 323.65*x**2 - 1682.1*x + 3189.0"
            ]
          },
          "metadata": {},
          "execution_count": 32
        }
      ]
    },
    {
      "cell_type": "markdown",
      "source": [
        "Graficamos:"
      ],
      "metadata": {
        "id": "qhiau101xTq_"
      }
    },
    {
      "cell_type": "code",
      "source": [
        "fig=plt.figure(figsize=(10,8))\n",
        "X2 = np.linspace(4,9,150)\n",
        "plt.plot(X2, F2(X2))\n",
        "plt.show()"
      ],
      "metadata": {
        "colab": {
          "base_uri": "https://localhost:8080/",
          "height": 485
        },
        "id": "JBd8mhctxXMn",
        "outputId": "318e3bef-f8a9-4a27-f08e-0381c20b04f4"
      },
      "execution_count": null,
      "outputs": [
        {
          "output_type": "display_data",
          "data": {
            "image/png": "[encoded data removed]",
            "text/plain": [
              "<Figure size 720x576 with 1 Axes>"
            ]
          },
          "metadata": {}
        }
      ]
    },
    {
      "cell_type": "markdown",
      "source": [
        "## [Regresar al ínidce](https://github.com/neto-riga/metodos_numericos_2/blob/main/portafolio.md#índice)"
      ],
      "metadata": {
        "id": "A_I8YxQ4FrRR"
      }
    }
  ]
}